{
 "cells": [
  {
   "cell_type": "markdown",
   "metadata": {},
   "source": [
    "# Data Visualization"
   ]
  },
  {
   "cell_type": "markdown",
   "metadata": {},
   "source": [
    "In order to gain insights into the structure of the training data as well as the quality of the machine learning output, it is important to be able to effectively visualize your data. Use of the appropriate visualizations can help ensure that your raw data has been processed correctly (as detailed in [Alignment and Preprocessing](./03_Alignment_and_Preprocessing.ipynb) and [Resampling](./04_Resampling.ipynb)) and that the machine learning pipeline is resulting in the expected output (as described in [Machine Learning](./05_Machine_Learning.ipynb))."
   ]
  },
  {
   "cell_type": "code",
   "execution_count": null,
   "metadata": {},
   "outputs": [],
   "source": []
  }
 ],
 "metadata": {
  "language_info": {
   "name": "python",
   "pygments_lexer": "ipython3"
  }
 },
 "nbformat": 4,
 "nbformat_minor": 2
}
