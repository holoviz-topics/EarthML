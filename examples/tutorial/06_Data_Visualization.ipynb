{
 "cells": [
  {
   "cell_type": "markdown",
   "metadata": {},
   "source": [
    "# Data Visualization"
   ]
  },
  {
   "cell_type": "markdown",
   "metadata": {},
   "source": [
    "In order to gain insights into the structure of the training data as well as the quality of the machine learning output, it is important to be able to effectively visualize your data. Use of the appropriate visualizations can help ensure that your raw data has been processed correctly (as detailed in [Alignment and Preprocessing](./03_Alignment_and_Preprocessing.ipynb) and [Resampling](./04_Resampling.ipynb)) and that the machine learning pipeline is resulting in the expected output (as described in [Machine Learning](./05_Machine_Learning.ipynb)).\n",
    "\n",
    "For detailed examples, please see [pyviz.org](http://pyviz.org), particularly:\n",
    "\n",
    "- [01 Workflow Introduction](http://pyviz.org/tutorial/01_Workflow_Introduction.html)\n",
    "- [05 Working with Gridded Data](http://pyviz.org/tutorial/05_Working_with_Gridded_Data.html)\n",
    "- [07 Geographic Data](http://pyviz.org/tutorial/07_Geographic_Data.html)\n",
    "- [10 Working with Large Datasets](http://pyviz.org/tutorial/10_Working_with_Large_Datasets.html)\n",
    "\n",
    "And [EarthSim.pyviz.org](http://earthsim.pyviz.org) for usage of drawing tools and calling hydrology simulators, plus [Datashader.org](http://datashader.org) for working with large datasets and for geo-related toolboxes (NDVI, etc.)."
   ]
  }
 ],
 "metadata": {
  "language_info": {
   "name": "python",
   "pygments_lexer": "ipython3"
  }
 },
 "nbformat": 4,
 "nbformat_minor": 2
}
