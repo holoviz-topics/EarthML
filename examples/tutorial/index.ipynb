{
 "cells": [
  {
   "cell_type": "markdown",
   "metadata": {},
   "source": [
    "# Tutorial Overview"
   ]
  },
  {
   "cell_type": "markdown",
   "metadata": {},
   "source": [
    "The EarthML tutorial takes you through the various stages involved in using Python open-source tools to work with machine-learning and related data analysis tools for climate and other Earth science topics:\n",
    "\n",
    "1. [Data Ingestion](./01_Data_Ingestion.ipynb): Loading large data sets efficiently with [`intake`](https://github.com/ContinuumIO/intake).\n",
    "2. [Introduction to Visualization](./02_Introduction_to_Visualization.ipynb): How to visualize data loaded into memory.\n",
    "3. [Alignment and Preprocessing](./03_Alignment_and_Preprocessing.ipynb): How to prepare your data for the machine learning pipeline.\n",
    "4. [Machine Learning](./04_Machine_Learning.ipynb): Specifying a [`scikit-learn`](http://scikit-learn.org/stable/index.html) pipeline to ingest the prepared training data.\n",
    "5. [Data Visualization](./05_Data_Visualization.ipynb): How to visualize your data throughout the workflow, starting from data ingestion to the final machine learning product."
   ]
  }
 ],
 "metadata": {
  "language_info": {
   "name": "python",
   "pygments_lexer": "ipython3"
  }
 },
 "nbformat": 4,
 "nbformat_minor": 2
}
