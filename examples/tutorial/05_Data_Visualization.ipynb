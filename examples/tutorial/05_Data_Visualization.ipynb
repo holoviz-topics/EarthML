{
 "cells": [
  {
   "cell_type": "markdown",
   "metadata": {},
   "source": [
    "# Data Visualization"
   ]
  },
  {
   "cell_type": "markdown",
   "metadata": {},
   "source": [
    "In order to gain insights into the structure of the training data as well as the quality of the machine learning output, it is important to be able to effectively visualize your data. Use of the appropriate visualizations can help ensure that your raw data has been processed correctly (as detailed in [Alignment and Preprocessing](./03_Alignment_and_Preprocessing.ipynb)) and that the machine learning pipeline is resulting in the expected output (as described in [Machine Learning](./04_Machine_Learning.ipynb)).\n",
    "\n",
    "For detailed examples, please see [holoviz.org](http://holoviz.org), particularly:\n",
    "\n",
    "- [Overview](https://holoviz.org/tutorial/Overview.html)\n",
    "- [Gridded Datasets](http://holoviews.org/user_guide/Gridded_Datasets.html)\n",
    "- [The GeoViews User guide](http://geoviews.org/user_guide/index.html)\n",
    "- [Large Data](https://holoviz.org/tutorial/Large_Data.html)\n",
    "\n",
    "And [EarthSim.holoviz.org](http://earthsim.holoviz.org) for usage of drawing tools and calling hydrology simulators, plus [Datashader.org](http://datashader.org) for working with large datasets and for geo-related toolboxes (NDVI, etc.)."
   ]
  }
 ],
 "metadata": {
  "language_info": {
   "name": "python",
   "pygments_lexer": "ipython3"
  }
 },
 "nbformat": 4,
 "nbformat_minor": 2
}
