{
 "cells": [
  {
   "cell_type": "markdown",
   "metadata": {},
   "source": [
    "# Tutorial Overview"
   ]
  },
  {
   "cell_type": "markdown",
   "metadata": {},
   "source": [
    "In this tutorial, the core concepts of EarthML are introduced with the aim of outlining a typical, explorative machine learning workflow. This workflow is composed of the following steps:\n",
    "\n",
    "1. [Data Ingestion with Intake](./02_Data_Ingestion_with_Intake.ipynb): Loading large data sets efficiently with [`intake`](https://github.com/ContinuumIO/intake).\n",
    "2. [Alignment and Preprocessing](./03_Alignment_and_Preprocessing.ipynb): How to prepare your data for the machine learning pipeline.\n",
    "3. [Resampling](./04_Resampling.ipynb): How to up-scale and down-scale your data.\n",
    "4. [Machine Learning](./05_Machine_Learning.ipynb): Specifying a [`scikit-learn`](http://scikit-learn.org/stable/index.html) pipeline to ingest the prepared training data.\n",
    "5. [Data Visualization](./06_Data_Visualization.ipynb): How to visualize your data throughout the workflow, starting from data ingestion to the final machine learning product."
   ]
  }
 ],
 "metadata": {
  "language_info": {
   "name": "python",
   "pygments_lexer": "ipython3"
  }
 },
 "nbformat": 4,
 "nbformat_minor": 2
}
