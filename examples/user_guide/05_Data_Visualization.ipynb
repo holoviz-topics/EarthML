{
 "cells": [
  {
   "cell_type": "markdown",
   "metadata": {},
   "source": [
    "In order to gain insights into the structure of the training data as well as the quality of the machine learning output, it is important to be able to effectively visualize your data. Use of the appropriate visualizations can help ensure that your raw data has been processed correctly (as detailed in the [Alignment_and_Preprocessing](./03_Alignment_and_Preprocessing.ipynb) user guide) and that the machine learning pipeline is resulting in the expected output (as described in the [Machine_Learning](./04_Machine_Learning.ipynb) user guide)."
   ]
  }
 ],
 "metadata": {
  "language_info": {
   "name": "python",
   "pygments_lexer": "ipython3"
  }
 },
 "nbformat": 4,
 "nbformat_minor": 2
}
