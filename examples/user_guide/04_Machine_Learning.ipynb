{
 "cells": [
  {
   "cell_type": "markdown",
   "metadata": {},
   "source": [
    "With the data preparation complete, this user guide will demonstrate how you can configure a [`scikit-learn`](http://scikit-learn.org/stable/index.html) pipeline. In the next user guide, [Data_Visualization](05_Data_Visualization) you will learn how to visualize the output of this pipeline and diagnose as well as ensure that the inputs to the pipeline have the expected structure."
   ]
  }
 ],
 "metadata": {
  "language_info": {
   "name": "python",
   "pygments_lexer": "ipython3"
  }
 },
 "nbformat": 4,
 "nbformat_minor": 2
}
