{
 "cells": [
  {
   "cell_type": "markdown",
   "metadata": {},
   "source": [
    "## Install notebook dependencies\n",
    "\n",
    "```\n",
    "conda install -c pyviz pyviz\n",
    "conda install -c intake intake intake-xarray\n",
    "conda install rasterio s3fs -c conda-forge zarr\n",
    "```"
   ]
  },
  {
   "cell_type": "code",
   "execution_count": null,
   "metadata": {},
   "outputs": [],
   "source": []
  }
 ],
 "metadata": {
  "language_info": {
   "name": "python",
   "pygments_lexer": "ipython3"
  }
 },
 "nbformat": 4,
 "nbformat_minor": 2
}
