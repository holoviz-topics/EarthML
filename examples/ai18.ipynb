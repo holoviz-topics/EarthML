{
 "cells": [
  {
   "cell_type": "markdown",
   "metadata": {},
   "source": [
    "<table width=\"100%\"><tr style=\"background-color:rgba(0, 0, 0, 0);\">\n",
    "<td style=\"border: 0px\"><img height=\"65\" width=\"172\" src=\"assets/logo_wm_line.png\"/></td>\n",
    "<td style=\"border: 0px\"><h2>Workshop on AI 2018 Tutorial</h2></td>\n",
    "<td style=\"border: 0px\"><img height=\"65\" width=\"172\" src=\"http://pyviz.org/assets/PyViz_logo_wm_line.png\"/></td>\n",
    "</tr></table>"
   ]
  },
  {
   "cell_type": "markdown",
   "metadata": {},
   "source": [
    "## Welcome to the EarthML/PyViz tutorial!\n",
    "\n",
    "This tutorial will show you how to get started using general-purpose, open-source Python tools for machine learning, analysis, and visualization of earth-science data. Python offers a combination of convenience (many libraries already available, most things already done for you) with depth (anything can be customized, automated, optimized, and scaled up). The main downside of using Python is trying to navigate the huge and bewildering variety of tools available, and here we will guide you to a set of well-supported tools that enable a flexible, high-performance, scalable workflow.\n",
    "\n",
    "For machine learning, we focus on techniques that let you prepare earth-science data such as satellite images for processing by any of the various tools commonly used in Python, including scikit-learn and TensorFlow. We won't tell you what algorithm to run or what parameters to give it, but we'll show you how to get the data ready for you to make those choices in your particular application.\n",
    "\n",
    "Along the way, we will make sure that all of the data can easily be exposed, accessed, and visualized, using tools that provide:\n",
    "\n",
    "- Full functionality in browsers (supporting local ore remote usage not tied to a desktop environment)\n",
    "- Full interactivity (inside and out of plots)\n",
    "- Specification in Python (not JavaScript, JSON, or other languages)\n",
    "- Quick but fully customizable plots that minimize the need for coding\n",
    "- Support for data of any size (really!)\n",
    "- Free movement of your code between Jupyter notebooks, batch processing, and standalone web dashboards\n",
    "\n",
    "We'll be using a wide range of open-source Python libraries that support these goals, including the [Anaconda](http://anaconda.com)-supported tools from the [PyViz](http://pyviz.org) initiative:\n",
    "[Panel](http://panel.pyviz.org),\n",
    "[HoloViews](http://holoviews.org),\n",
    "[GeoViews](http://geoviews.org),\n",
    "[Bokeh](https://bokeh.pydata.org),\n",
    "[Datashader](http://datashader.org), \n",
    "[Intake](http://intake.readthedocs.io), and \n",
    "[Param](http://param.pyviz.org).  This material is all available for later study, at the [EarthML](http://earthml.pyviz.org) website.\n",
    "\n",
    "This tutorial will take you through all of the steps involved in typical analysis and prediction workflows, from data ingestion to delivering a complete shareable web dashboard with the results."
   ]
  },
  {
   "cell_type": "markdown",
   "metadata": {},
   "source": [
    "## Index and Schedule\n",
    "<!-- Breakdown: 120 min, 60 min lunch, 180 min -->\n",
    "\n",
    "- *Overview*\n",
    "   * **15 min** &nbsp;[0 - Setup](http://earthml.pyviz.org): Setting up your system to run the tutorial.\n",
    "   * &nbsp;&nbsp;**0 min** &nbsp;[Carbon Flux](topics/Carbon_Flux.ipynb) : Example full Python workflow laying out all the steps *(assumed already viewed)*<br><br>\n",
    "   <!-- Emphasize that the tools all support a huge range of data types, a huge range of processing steps, many ML algorithms, and many viz options -->\n",
    "   <!-- Shortcuts, not dead ends -->\n",
    "\n",
    "- *Data ingestion*\n",
    "   * **50 min** &nbsp;[1 - Data Ingestion](tutorial/01_Data_Ingestion.ipynb): Loading data efficiently, whether local or remote, large or small.\n",
    "   * **15 min** &nbsp;[2 - Intro to Visualization](tutorial/02_Introduction_to_Visualization.ipynb): Simple tools for visualizing geo and other data.\n",
    "   * **20 min** &nbsp;[Heat and Trees](topics/Heat_and_Trees.ipynb): Analysis of how trees affect heat distribution in urban areas\n",
    "   * **20 min** &nbsp;*Questions and discussion*\n",
    "   * **60 min** &nbsp;*Lunch break*<br><br>\n",
    "   \n",
    "- *Running ML or other analysis or simulation tools*\n",
    "   * **30 min** &nbsp;[4 - Machine Learning](tutorial/04_Machine_Learning.ipynb): Specifying an ML pipeline using the prepared training data.\n",
    "   <!-- Use carbon flux with simple ML algorithm?  -->      \n",
    "   * **20 min** &nbsp;[LANDSAT Spectral Clustering](topics/Landsat_Spectral_Clustering.ipynb): Unsupervised clustering of LANDSAT data\n",
    "   * **30 min** &nbsp;[Image Classification](topics/Image_Classification.ipynb): Supervised learning of satellite images using Keras+TensorFlow<br><br>\n",
    "   <!--\tOther examples with tensorflow, keras, pytorch using CNN or some other algorithms? -->\n",
    "   <!--\tInterfacing to external code? -->\n",
    "   <!-- http://ml.dask.org/ -->\n",
    "   <!-- Cover Datashader here? -->\n",
    "\n",
    "- *Visualization and sharing*\n",
    "   * **80 min** &nbsp;[5 - Visualization](tutorial/05_Data_Visualization.ipynb): In-depth examples of visualization and misc topics\n",
    "   <!-- Visualize every step; big data, small data, static, interactive, whatever, mentioning tile servers -->\n",
    "   <!-- Demo EarthSim: Drawing tools/annotators,  Grabcut -->\n",
    "   <!-- Datashader 8_Geography.ipynb? -->\n",
    "   <!-- Briefly show off a few dashboards (Glaciers, Birds, etc.) -->\n",
    "   * **20 min** &nbsp;*Questions and discussion*\n"
   ]
  }
 ],
 "metadata": {
  "language_info": {
   "name": "python",
   "pygments_lexer": "ipython3"
  }
 },
 "nbformat": 4,
 "nbformat_minor": 2
}
