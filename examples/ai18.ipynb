{
 "cells": [
  {
   "cell_type": "markdown",
   "metadata": {},
   "source": [
    "<table width=\"100%\"><tr style=\"background-color:rgba(0, 0, 0, 0);\">\n",
    "<td style=\"border: 0px\"><img height=\"65\" width=\"172\" src=\"assets/logo_wm_line.png\"/></td>\n",
    "<td style=\"border: 0px\"><h2>Workshop on AI 2018 Tutorial</h2></td>\n",
    "<td style=\"border: 0px\"><img height=\"65\" width=\"172\" src=\"http://pyviz.org/assets/PyViz_logo_wm_line.png\"/></td>\n",
    "</tr></table>"
   ]
  },
  {
   "cell_type": "markdown",
   "metadata": {},
   "source": [
    "## Welcome to the EarthML/PyViz tutorial!\n",
    "\n",
    "This tutorial will show you how to get started using general-purpose, open-source Python tools for machine learning, analysis, and visualization of earth-science data. Python offers a combination of convenience (many libraries already available, most things already done for you) with depth (anything can be customized, automated, optimized, and scaled up). The main downside of using Python is trying to navigate the huge and bewildering variety of tools available, and here we will guide you to a set of well-supported tools that enable a flexible, high-performance, scalable workflow.\n",
    "\n",
    "For machine learning, we focus on techniques that let you prepare earth-science data such as satellite images for processing by any of the various tools commonly used in Python, including scikit-learn and TensorFlow. We won't tell you what algorithm to run or what parameters to give it, but we'll show you how to get the data ready for you to make those choices in your particular application.\n",
    "\n",
    "Along the way, we will make sure that all of the data can easily be exposed, accessed, and visualized, using tools that provide:\n",
    "\n",
    "- Full functionality in browsers (supporting local ore remote usage not tied to a desktop environment)\n",
    "- Full interactivity (inside and out of plots)\n",
    "- Specification in Python (not JavaScript, JSON, or other languages)\n",
    "- Quick but fully customizable plots that minimize the need for coding\n",
    "- Support for data of any size (really!)\n",
    "- Free movement of your code between Jupyter notebooks, batch processing, and standalone web dashboards\n",
    "\n",
    "We'll be using a wide range of open-source Python libraries that support these goals, including the [Anaconda](http://anaconda.com)-supported tools from the [PyViz](http://pyviz.org) initiative:\n",
    "[Panel](http://panel.pyviz.org),\n",
    "[HoloViews](http://holoviews.org),\n",
    "[GeoViews](http://geoviews.org),\n",
    "[Bokeh](https://bokeh.pydata.org),\n",
    "[Datashader](http://datashader.org), \n",
    "[Intake](http://intake.readthedocs.io), and \n",
    "[Param](http://param.pyviz.org).  This material is all available for later study, at the [EarthML](http://earthml.pyviz.org) website.\n",
    "\n",
    "This tutorial will take you through all of the steps involved in typical analysis and prediction workflows, from data ingestion to delivering a complete shareable web dashboard with the results."
   ]
  },
  {
   "cell_type": "markdown",
   "metadata": {},
   "source": [
    "## Index and Schedule\n",
    "\n",
    "- *Overview*\n",
    "   * **10 min** &nbsp;[0 - Setup](http://earthml.pyviz.org): Setting up your system to run the tutorial.\n",
    "   * **50 min** &nbsp;[1 - Introduction and Workflow](http://earthml.pyviz.org/tutorial/01_Introduction_and_Workflow.html) : Getting started and overview.<br><br>\n",
    "- *Data preprocessing*\n",
    "   * **10 min** &nbsp;[2 - Data Ingestion with Intake](http://earthml.pyviz.org/tutorial/02_Data_Ingestion_with_Intake.html): Loading large data sets efficiently with intake.\n",
    "   * **10 min** &nbsp;[3 - Alignment and Preprocessing](http://earthml.pyviz.org/tutorial/03_Alignment_and_Preprocessing.html): How to prepare your data for the machine learning pipeline.\n",
    "   * **10 min** &nbsp;[4 - Resampling](http://earthml.pyviz.org/tutorial/04_Resampling.html): How to resample large datasets.\n",
    "   * **30 min** &nbsp;*Exercise 1*\n",
    "   * **60 min** &nbsp;*Lunch break*<br><br>   \n",
    "- *Running ML or other analysis or simulation tools*\n",
    "   * **30 min** &nbsp;[5 - Machine Learning](http://earthml.pyviz.org/tutorial/05_Machine_Learning.html): Specifying a scikit-learn pipeline to ingest the prepared training data.\n",
    "   * **30 min** &nbsp;*Exercise 2*\n",
    "   * **20 min** &nbsp;[6 - Scaling Up](http://ml.dask.org/): Running large ML pipelines distributed across nodes.\n",
    "   * **30 min** &nbsp;*Exercise 3*<br><br>\n",
    "- *Visualization*\n",
    "   * **20 min** &nbsp;[7 - Visualization](http://earthml.pyviz.org/tutorial/06_Data_Visualization.html): How to visualize your data throughout the workflow, starting from data ingestion to the final machine learning product.\n",
    "   * **10 min** &nbsp;[8 - Sharing Results](http://pyviz.org/tutorial/A2_Dashboard_Workflow.html): Sharing results as visualizations and interactive apps and dashboards.\n",
    "   * **40 min** &nbsp;*Exercise 4*<br><br>"
   ]
  }
 ],
 "metadata": {
  "kernelspec": {
   "display_name": "Python 3",
   "language": "python",
   "name": "python3"
  },
  "language_info": {
   "codemirror_mode": {
    "name": "ipython",
    "version": 3
   },
   "file_extension": ".py",
   "mimetype": "text/x-python",
   "name": "python",
   "nbconvert_exporter": "python",
   "pygments_lexer": "ipython3",
   "version": "3.6.6"
  }
 },
 "nbformat": 4,
 "nbformat_minor": 2
}
