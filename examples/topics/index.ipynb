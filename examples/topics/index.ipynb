{
 "cells": [
  {
   "cell_type": "markdown",
   "metadata": {},
   "source": [
    "<style>div.container { width: 100% }</style>\n",
    "<img style=\"float:left;  vertical-align:text-bottom;\" height=\"65\" width=\"172\" src=\"../assets/logo_wm_line.png\" />\n",
    "<div style=\"float:right; vertical-align:text-bottom;\"><h2>Topics Index</h2></div>"
   ]
  },
  {
   "cell_type": "markdown",
   "metadata": {},
   "source": [
    "Examples what can be done with EarthML.\n",
    "\n",
    "To learn how to use EarthML, see the [Tutorial](../tutorial/index.ipynb).\n",
    "\n",
    "Contents:\n",
    " - [Landsat Spectral Clustering](./landsat_spectral_clustering.ipynb): Unsupervised clustering of LANDSAT data.\n",
    "   \n",
    "   [<img src=../_static/collage/cluster.png width=200 align=left />](./landsat_spectral_clustering.ipynb)\n",
    " - [Walker Lake](./walker_lake.ipynb): Visualizing the change in the NDVI over time for a great saline lake.\n",
    "   \n",
    "   [<img src=../_static/collage/walker.png width=200 align=left />](./walker_lake.ipynb)\n",
    " - [Heat and Trees](./heat_and_trees.ipynb): Unsupervised clustering of LANDSAT data.\n",
    "   \n",
    "   [<img src=../_static/collage/trees.png width=200 align=left />](./heat_and_trees.ipynb)\n"
   ]
  }
 ],
 "metadata": {
  "language_info": {
   "name": "python",
   "pygments_lexer": "ipython3"
  }
 },
 "nbformat": 4,
 "nbformat_minor": 2
}
